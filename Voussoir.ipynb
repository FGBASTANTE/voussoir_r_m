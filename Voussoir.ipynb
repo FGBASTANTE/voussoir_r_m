{
 "cells": [
  {
   "cell_type": "markdown",
   "id": "2b0fdfb7-300c-4d5f-a9bc-af549681d2f1",
   "metadata": {},
   "source": [
    "# Voussoir\n",
    "Implementación de la solución de M.S. Diederichs y P.K. Kaiser* para el\n",
    "análisis de la estabilidad de techo de excavaciones en macizos resistentes\n",
    "estratificados con el modelo de dovelas.\n",
    "\n",
    "Realiza los cálculos para un rango dado del valor del espesor del estrato (t): desde t hasta t x f_t\n",
    "\n",
    "Tiene en cuenta una carga parabólica por encima del estrato (pueden implementar ustedes otras variantes fácilmente)\n",
    "\n",
    "*Stability of large excavations in laminated hard rock masses: the voussoir\n",
    "analogue revisited. International Journal of Rock Mechanics and Mining Sciences 36 (1999) 97-117\n",
    "https://doi.org/10.1016/S0148-9062(98)00180-6"
   ]
  },
  {
   "cell_type": "markdown",
   "id": "dd905021-fdd8-4faf-9c20-6c8450d219ca",
   "metadata": {},
   "source": [
    "## Establecimiento de la ruta al directorio de trabajo (W_D) y carga de los paquetes requeridos"
   ]
  },
  {
   "cell_type": "code",
   "execution_count": null,
   "id": "05422e40-d1db-401b-932e-bce6687f4217",
   "metadata": {
    "editable": true,
    "slideshow": {
     "slide_type": ""
    },
    "tags": []
   },
   "outputs": [],
   "source": [
    "import os\n",
    "os.getcwd()     # Se comprueba la ruta de trabajo actual "
   ]
  },
  {
   "cell_type": "code",
   "execution_count": null,
   "id": "ac225a7e-284e-4027-9dfe-86d521573c9a",
   "metadata": {
    "editable": true,
    "slideshow": {
     "slide_type": ""
    },
    "tags": []
   },
   "outputs": [],
   "source": [
    "# Introduzca la ruta al directorio de trabajo donde se guardarán los resultados (comente si no desea modificarla)\n",
    "W_D = r'C:\\Users\\usuario\\works\\voussoir'\n",
    "os.chdir(W_D)"
   ]
  },
  {
   "cell_type": "code",
   "execution_count": null,
   "id": "159c6867-c92d-4980-a551-04be41bd5d74",
   "metadata": {
    "editable": true,
    "slideshow": {
     "slide_type": ""
    },
    "tags": []
   },
   "outputs": [],
   "source": [
    "# Carga de paquetes\n",
    "import numpy as np\n",
    "import pandas as pd"
   ]
  },
  {
   "cell_type": "markdown",
   "id": "9a9c9b5a-f68d-4022-8878-06973c8c3cd3",
   "metadata": {},
   "source": [
    "## Entrada de los parámetros de trabajo"
   ]
  },
  {
   "cell_type": "code",
   "execution_count": null,
   "id": "8813ff01-e533-4bcb-96d1-15cc3fb7f2d8",
   "metadata": {},
   "outputs": [],
   "source": [
    "s = 14                 # Span (m)\n",
    "t = 0.5                # Thickness (m)\n",
    "e = 19900              # Young Module (MPa)\n",
    "gamma = 28.9           # Density (kN/m3)\n",
    "sigma_c = 95           # RCS (MPa)\n",
    "alpha = 18             # Inclination (º)\n",
    "fhi = 36               # Friction (º)\n",
    "upp_density = 25.9     # Upper Layer Density (kN/m3)\n",
    "upp_thicker = 1        # Thickness (m)\n",
    "out_file = \"vous.xlsx\" # Nombre de fichero de salida\n",
    "f_t = 1.5              # Espesor máximo a analizar (t  x  f_t)"
   ]
  },
  {
   "cell_type": "code",
   "execution_count": null,
   "id": "7e0d838a-613f-4a42-a227-9e972aaf0902",
   "metadata": {},
   "outputs": [],
   "source": [
    "# Conversión previa a los cálculos de grados a radianes\n",
    "alpha = alpha * np.pi/180\n",
    "fhi = fhi * np.pi/180"
   ]
  },
  {
   "cell_type": "markdown",
   "id": "21d51be8-3d5d-4d05-8f16-1d97f934b15d",
   "metadata": {},
   "source": [
    "## Se define la función para calcular la carga"
   ]
  },
  {
   "cell_type": "code",
   "execution_count": null,
   "id": "dfbe8d94-b02f-4262-acaa-5d00d1802c7f",
   "metadata": {},
   "outputs": [],
   "source": [
    "def calc_charges(upp_density, upp_thicker, t):\n",
    "    '''\n",
    "    Función para calcular la carga (parabólica) debida a estratos superiores.\n",
    "    Puede incorporar usted otras cargas: v.g. presión de sostenimiento.\n",
    "'''\n",
    "    # Carga de los estratos superiores (parabólica)\n",
    "    subcharge_load_horiz = 7/9 * upp_density * upp_thicker / t\n",
    "\n",
    "    # Carga total (según inclinación)\n",
    "    gamma_e = (gamma + subcharge_load_horiz) * np.cos(alpha) / 1000\n",
    "\n",
    "    return gamma_e"
   ]
  },
  {
   "cell_type": "markdown",
   "id": "04988dae-a928-4fb4-bd09-a595ab76d6e6",
   "metadata": {},
   "source": [
    "## Función principal que realiza los cálculos según el algoritmo indicado en la figura 8 del artículo de  M.S. Diederichs y P.K. Kaiser"
   ]
  },
  {
   "cell_type": "code",
   "execution_count": null,
   "id": "f0865e9f-0043-4180-824f-6dbebd0763a6",
   "metadata": {},
   "outputs": [],
   "source": [
    "def vouss(thick):\n",
    "    '''\n",
    "    Función que calcula fuerzas y factores de seguridad en el modelo de dovelas\n",
    "'''\n",
    "    # Lista para guardar resultados: [n, zo, z_chk, z, fm, fav]\n",
    "    save_results = []\n",
    "    # Nomino el espesor como t\n",
    "    t = thick\n",
    "\n",
    "    # Carga\n",
    "    gamma_e = calc_charges(upp_density, upp_thicker, t)\n",
    "\n",
    "    # Inicio del paso de n y del contador de casos de vuelco inestables\n",
    "    step = 0.01\n",
    "    buck_limit = 1\n",
    "\n",
    "    #  Algoritmo que itera sobre n\n",
    "    for n in np.arange(0.01, 1 + step, step):\n",
    "        zo = t * (1 - 2/3 * n)\n",
    "        L = s + 8 / (3 * s) * zo**2\n",
    "\n",
    "        #  Iniciación de dl y de su variación entre iteraciones\n",
    "        dl = 0\n",
    "        inc_dl = 1  # Un número grande en el comienzo para que itere\n",
    "\n",
    "        #  Iteración en dl\n",
    "        while inc_dl > 0.0000001:\n",
    "            z_chk = (8 / (3 * s) * zo**2 - dl)\n",
    "\n",
    "            # Caso inestable: pasa al siguiente valor de n\n",
    "            if z_chk < 0:\n",
    "                buck_limit += 1\n",
    "                # fm es igual a infinito para imposibilitar su selección\n",
    "                fm = float('inf')\n",
    "                break\n",
    "            # Caso estable hasta ahora: iteraciones en inc_dl\n",
    "            else:\n",
    "                z = np.sqrt((3 * s / 8) * z_chk)\n",
    "                fm = gamma_e * s**2 / (4*n*z)\n",
    "                fav = fm / 3 * (2/3 + n)\n",
    "                dlp = dl\n",
    "                dl = fav/e * L\n",
    "                inc_dl = dl - dlp\n",
    "\n",
    "        #  Guardado de datos al salir de iterar en incremento de dl\n",
    "        save_results.append(([n, zo, z_chk, z, fm, fav]))\n",
    "\n",
    "    #  Resultados a array para obtener la solución con fm mínima\n",
    "    results_array = np.array(save_results)\n",
    "    # Determinación de las posiciones correspondientes a valores mínimos\n",
    "    posicion = np.argmin(results_array, axis=0)\n",
    "    # Selección de la fila con menor fm [índice 4 en la array]\n",
    "    min_fm_row = np.append(results_array[posicion[4], :], buck_limit)\n",
    "    min_fm = min_fm_row[4]\n",
    "\n",
    "    #  Se calculan los coeficientes de seguridad y la deflexión\n",
    "    fs_crush_by2 = (sigma_c/2) / min_fm\n",
    "    fs_sliding = min_fm * min_fm_row[0] * np.tan(fhi)/(gamma_e * s)\n",
    "    deflection = min_fm_row[1] - min_fm_row[3]\n",
    "    fs_array = np.array([fs_crush_by2, fs_sliding, deflection])\n",
    "\n",
    "    return np.append(min_fm_row, fs_array)"
   ]
  },
  {
   "cell_type": "markdown",
   "id": "adb91a6f-0a01-4df5-89cd-41b5609bc0f8",
   "metadata": {},
   "source": [
    "## Función auxiliar para realizar los cálculos de la función vouss(thick) en el rango de espesores que va desde t hasta t x f_t"
   ]
  },
  {
   "cell_type": "code",
   "execution_count": null,
   "id": "574c465c-a575-4b0b-8441-a811bd71655a",
   "metadata": {},
   "outputs": [],
   "source": [
    "def sensib(thick=t, ft=f_t):\n",
    "    '''\n",
    "    Función que varía el espesor t hasta un máximo de (t x f_t) y lanza para cada\n",
    "    uno de ellos a la función z.\n",
    "'''\n",
    "    #  Iniciación del almacén de resultados y creación del grid de valores de t\n",
    "    resultados = np.empty((0, 10))\n",
    "    t_grid = np.linspace(thick, ft * thick, 20)\n",
    "\n",
    "    #  Se lanza cada t a la función z\n",
    "    for i in range(len(t_grid)):\n",
    "        sol = (vouss(t_grid[i]).reshape(1, -1))\n",
    "        resultados = np.append(resultados, sol, axis=0)\n",
    "\n",
    "    #  Guardado de resultados en un dataframe\n",
    "    df = pd.DataFrame(resultados, index=t_grid,\n",
    "                      columns=['n', 'zo', 'z_chk', 'z', 'fm', 'fav',\n",
    "                               'buck_limit', 'fs_crush', 'fs_sliding',\n",
    "                               'deflection (mm)'])\n",
    "\n",
    "    #  Guardado en fichero excel\n",
    "    df.to_excel(out_file)\n",
    "\n",
    "    return df"
   ]
  },
  {
   "cell_type": "markdown",
   "id": "56951b56-181f-4070-b088-f349b880552c",
   "metadata": {},
   "source": [
    "## Se ejecuta el código con los valores por defecto"
   ]
  },
  {
   "cell_type": "code",
   "execution_count": null,
   "id": "bc7220e6-cd85-4acf-a8b7-959cc4753ef8",
   "metadata": {},
   "outputs": [],
   "source": [
    "df = sensib()\n",
    "print(df)"
   ]
  },
  {
   "cell_type": "markdown",
   "id": "f8a01664-205e-4972-8eff-49a5d730a824",
   "metadata": {},
   "source": [
    "## Se grafican algunos resultados"
   ]
  },
  {
   "cell_type": "code",
   "execution_count": null,
   "id": "74d1b278-1168-423b-a22c-8153d844f352",
   "metadata": {
    "editable": true,
    "slideshow": {
     "slide_type": ""
    },
    "tags": []
   },
   "outputs": [],
   "source": [
    "df['t (m)'] = df.index\n",
    "df.plot(x='t (m)', figsize=(9, 6), y=['fs_sliding', 'fs_crush', 'deflection (mm)', 'buck_limit'],\n",
    "        color='Green', logx=False, subplots=True)"
   ]
  }
 ],
 "metadata": {
  "kernelspec": {
   "display_name": "Python 3 (ipykernel)",
   "language": "python",
   "name": "python3"
  },
  "language_info": {
   "codemirror_mode": {
    "name": "ipython",
    "version": 3
   },
   "file_extension": ".py",
   "mimetype": "text/x-python",
   "name": "python",
   "nbconvert_exporter": "python",
   "pygments_lexer": "ipython3",
   "version": "3.12.2"
  }
 },
 "nbformat": 4,
 "nbformat_minor": 5
}
